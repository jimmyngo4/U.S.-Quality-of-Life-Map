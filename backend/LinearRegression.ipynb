{
 "cells": [
  {
   "cell_type": "code",
   "execution_count": 2,
   "id": "8bbd60e9-24ca-4847-9c8e-e48b20bb025f",
   "metadata": {
    "tags": []
   },
   "outputs": [
    {
     "name": "stdout",
     "output_type": "stream",
     "text": [
      "Predicted Unemployment Rates for 2023 and 2024:\n",
      "Alabama - 2023: 4.53%, 2024: 4.44%\n",
      "Alaska - 2023: 5.72%, 2024: 5.64%\n",
      "Arizona - 2023: 5.62%, 2024: 5.59%\n",
      "Arkansas - 2023: 4.43%, 2024: 4.36%\n",
      "California - 2023: 6.83%, 2024: 6.82%\n",
      "Colorado - 2023: 4.55%, 2024: 4.52%\n",
      "Connecticut - 2023: 5.63%, 2024: 5.64%\n",
      "Delaware - 2023: 4.61%, 2024: 4.58%\n",
      "District of Columbia - 2023: 6.83%, 2024: 6.80%\n",
      "Florida - 2023: 4.96%, 2024: 4.92%\n",
      "Georgia - 2023: 5.64%, 2024: 5.63%\n",
      "Hawaii - 2023: 4.12%, 2024: 4.09%\n",
      "Idaho - 2023: 4.06%, 2024: 3.99%\n",
      "Illinois - 2023: 6.07%, 2024: 6.04%\n",
      "Indiana - 2023: 4.62%, 2024: 4.57%\n",
      "Iowa - 2023: 3.45%, 2024: 3.40%\n",
      "Kansas - 2023: 4.58%, 2024: 4.58%\n",
      "Kentucky - 2023: 5.49%, 2024: 5.45%\n",
      "Los Angeles County - 2023: 7.61%, 2024: 7.62%\n",
      "Louisiana - 2023: 4.95%, 2024: 4.87%\n",
      "Maine - 2023: 4.20%, 2024: 4.14%\n",
      "Maryland - 2023: 4.68%, 2024: 4.66%\n",
      "Massachusetts - 2023: 4.91%, 2024: 4.89%\n",
      "Michigan - 2023: 5.63%, 2024: 5.54%\n",
      "Minnesota - 2023: 4.04%, 2024: 4.01%\n",
      "Mississippi - 2023: 6.06%, 2024: 6.01%\n",
      "Missouri - 2023: 4.80%, 2024: 4.76%\n",
      "Montana - 2023: 3.95%, 2024: 3.88%\n",
      "Nebraska - 2023: 3.16%, 2024: 3.15%\n",
      "Nevada - 2023: 7.34%, 2024: 7.37%\n",
      "New Hampshire - 2023: 3.73%, 2024: 3.71%\n",
      "New Jersey - 2023: 5.55%, 2024: 5.52%\n",
      "New Mexico - 2023: 5.38%, 2024: 5.33%\n",
      "New York - 2023: 5.50%, 2024: 5.46%\n",
      "New York city - 2023: 6.48%, 2024: 6.42%\n",
      "North Carolina - 2023: 6.03%, 2024: 6.04%\n",
      "North Dakota - 2023: 2.48%, 2024: 2.43%\n",
      "Ohio - 2023: 5.29%, 2024: 5.23%\n",
      "Oklahoma - 2023: 4.17%, 2024: 4.14%\n",
      "Oregon - 2023: 5.58%, 2024: 5.53%\n",
      "Pennsylvania - 2023: 5.08%, 2024: 5.03%\n",
      "Rhode Island - 2023: 6.33%, 2024: 6.32%\n",
      "South Carolina - 2023: 5.75%, 2024: 5.72%\n",
      "South Dakota - 2023: 3.02%, 2024: 2.99%\n",
      "Tennessee - 2023: 5.06%, 2024: 5.01%\n",
      "Texas - 2023: 5.30%, 2024: 5.28%\n",
      "Utah - 2023: 3.34%, 2024: 3.29%\n",
      "Vermont - 2023: 3.22%, 2024: 3.17%\n",
      "Virginia - 2023: 4.02%, 2024: 3.99%\n",
      "Washington - 2023: 5.09%, 2024: 5.02%\n",
      "West Virginia - 2023: 4.85%, 2024: 4.72%\n",
      "Wisconsin - 2023: 4.35%, 2024: 4.31%\n",
      "Wyoming - 2023: 4.45%, 2024: 4.43%\n"
     ]
    }
   ],
   "source": [
    "import pandas as pd\n",
    "from sklearn.linear_model import LinearRegression\n",
    "import numpy as np\n",
    "\n",
    "# Load the data\n",
    "data = pd.read_csv('Yearly_Unemployment_Rate_by_State.csv')\n",
    "\n",
    "# Pivot the data to have years as rows and states as columns\n",
    "data_pivot = data.pivot(index='Year', columns='State', values='Average Unemployment Rate (%)')\n",
    "\n",
    "# Prepare to predict for each state\n",
    "states = data_pivot.columns\n",
    "years_to_predict = np.array([[2023], [2024]])\n",
    "\n",
    "# Dictionary to store predictions for each state\n",
    "state_predictions = {}\n",
    "\n",
    "# Loop through each state to create and train a model\n",
    "for state in states:\n",
    "    X = data_pivot.index.values.reshape(-1, 1)  # Years as the independent variable\n",
    "    y = data_pivot[state].values  # Unemployment rates as the dependent variable\n",
    "    \n",
    "    # Setup and train linear regression model\n",
    "    model = LinearRegression()\n",
    "    model.fit(X, y)\n",
    "    \n",
    "    # Predict for 2023 and 2024\n",
    "    predictions = model.predict(years_to_predict)\n",
    "    state_predictions[state] = predictions\n",
    "\n",
    "# Display the predicted unemployment rates for each state\n",
    "print(\"Predicted Unemployment Rates for 2023 and 2024:\")\n",
    "for state, preds in state_predictions.items():\n",
    "    print(f\"{state} - 2023: {preds[0]:.2f}%, 2024: {preds[1]:.2f}%\")\n"
   ]
  },
  {
   "cell_type": "code",
   "execution_count": null,
   "id": "fc5351a3-aa06-4c7f-8d36-f6bff897bcab",
   "metadata": {},
   "outputs": [],
   "source": []
  }
 ],
 "metadata": {
  "kernelspec": {
   "display_name": "Python 3 (ipykernel)",
   "language": "python",
   "name": "python3"
  },
  "language_info": {
   "codemirror_mode": {
    "name": "ipython",
    "version": 3
   },
   "file_extension": ".py",
   "mimetype": "text/x-python",
   "name": "python",
   "nbconvert_exporter": "python",
   "pygments_lexer": "ipython3",
   "version": "3.11.5"
  }
 },
 "nbformat": 4,
 "nbformat_minor": 5
}
